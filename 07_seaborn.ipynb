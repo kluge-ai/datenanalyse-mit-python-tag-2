{
 "cells": [
  {
   "cell_type": "markdown",
   "id": "20420efc",
   "metadata": {},
   "source": [
    "# Visualisierung mit Seaborn"
   ]
  },
  {
   "cell_type": "code",
   "execution_count": null,
   "id": "1be597ee",
   "metadata": {},
   "outputs": [],
   "source": [
    "import seaborn as sns\n",
    "sns.set_theme()"
   ]
  },
  {
   "cell_type": "code",
   "execution_count": null,
   "id": "27849acd",
   "metadata": {},
   "outputs": [],
   "source": [
    "import pandas as pd"
   ]
  },
  {
   "cell_type": "code",
   "execution_count": null,
   "id": "f9317b62",
   "metadata": {},
   "outputs": [],
   "source": [
    "df = pd.read_csv(\"daten/beschwerdestatistik_komplett.csv\")\n",
    "df.head()"
   ]
  },
  {
   "cell_type": "code",
   "execution_count": null,
   "id": "aeb5694c812e32a8",
   "metadata": {
    "ExecuteTime": {
     "end_time": "2023-09-23T10:02:24.414955106Z",
     "start_time": "2023-09-23T10:02:24.412994734Z"
    }
   },
   "outputs": [],
   "source": [
    "import warnings\n",
    "warnings.filterwarnings('ignore')"
   ]
  },
  {
   "cell_type": "markdown",
   "id": "4ef8b0eb",
   "metadata": {},
   "source": [
    "## Explorative Analyse\n",
    "\n",
    "Die folgenden Fragen sollen beantwortet und sinnvoll visualisiert werden."
   ]
  },
  {
   "cell_type": "markdown",
   "id": "dd1f3bf0",
   "metadata": {},
   "source": [
    "**Aufgabe:** Wie war der PKV-Markt nach Anzahl der Versicherten 2022 aufgeteilt?"
   ]
  },
  {
   "cell_type": "code",
   "execution_count": null,
   "id": "29631614",
   "metadata": {},
   "outputs": [],
   "source": []
  },
  {
   "cell_type": "markdown",
   "id": "f7148d51",
   "metadata": {},
   "source": [
    "**Aufgabe:** In welcher Branche sind die Versicherten am zufriedensten?"
   ]
  },
  {
   "cell_type": "code",
   "execution_count": null,
   "id": "cf5d1096",
   "metadata": {},
   "outputs": [],
   "source": []
  },
  {
   "cell_type": "markdown",
   "id": "b7fc0ca4",
   "metadata": {},
   "source": [
    "**Aufgabe:** Wie ist der Zusammenhang zwischen Beschwerden und Bestand pro Branche?"
   ]
  },
  {
   "cell_type": "code",
   "execution_count": null,
   "id": "25602963",
   "metadata": {},
   "outputs": [],
   "source": []
  },
  {
   "cell_type": "markdown",
   "id": "3c8058cb7b2ec4a9",
   "metadata": {
    "collapsed": false
   },
   "source": [
    "**Aufgabe:** Wie haben sich die Versicherungen der ERGO über die Jahre entwickelt?"
   ]
  },
  {
   "cell_type": "code",
   "execution_count": null,
   "id": "c885e14416936bd3",
   "metadata": {},
   "outputs": [],
   "source": []
  }
 ],
 "metadata": {
  "kernelspec": {
   "display_name": "Python 3 (ipykernel)",
   "language": "python",
   "name": "python3"
  },
  "language_info": {
   "codemirror_mode": {
    "name": "ipython",
    "version": 3
   },
   "file_extension": ".py",
   "mimetype": "text/x-python",
   "name": "python",
   "nbconvert_exporter": "python",
   "pygments_lexer": "ipython3",
   "version": "3.9.7"
  }
 },
 "nbformat": 4,
 "nbformat_minor": 5
}
