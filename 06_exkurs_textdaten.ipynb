{
 "cells": [
  {
   "cell_type": "markdown",
   "id": "a1724ca7",
   "metadata": {},
   "source": [
    "# Exkurs: Textdaten"
   ]
  },
  {
   "cell_type": "markdown",
   "id": "06a1ff14",
   "metadata": {},
   "source": [
    "## Daten laden"
   ]
  },
  {
   "cell_type": "code",
   "execution_count": null,
   "id": "8acef46d",
   "metadata": {},
   "outputs": [],
   "source": [
    "import pandas as pd"
   ]
  },
  {
   "cell_type": "code",
   "execution_count": null,
   "id": "19a7dc92",
   "metadata": {},
   "outputs": [],
   "source": [
    "df = pd.read_csv(\"daten/address-sample.csv\")\n",
    "df = df[[\"address\", \"number\", \"street\", \"suftyp\", \"city\", \"state\", \"zip\"]]"
   ]
  },
  {
   "cell_type": "code",
   "execution_count": null,
   "id": "cbed949d",
   "metadata": {},
   "outputs": [],
   "source": [
    "df.head()"
   ]
  },
  {
   "cell_type": "code",
   "execution_count": null,
   "id": "f0f32e7f",
   "metadata": {},
   "outputs": [],
   "source": [
    "def score(spalte, ergebnis):\n",
    "    \"\"\"Berechne die Übereinstimmung und zeige abweichende Einträge.\"\"\"\n",
    "    ergebnis_copy = ergebnis.copy()\n",
    "    ergebnis_copy[0] = ergebnis_copy[0].astype(df[spalte].dtype)\n",
    "    ergebnis_copy[\"address\"] = df[\"address\"]\n",
    "    ergebnis_copy[spalte] = df[spalte]\n",
    "    \n",
    "    print(f\"Korrekt in {(ergebnis_copy[0] == ergebnis_copy[spalte]).mean()*100:.2f}% der Fälle\")\n",
    "    print(ergebnis_copy[[\"address\", spalte, 0]][ergebnis_copy[spalte] != ergebnis_copy[0]])"
   ]
  },
  {
   "cell_type": "markdown",
   "id": "09065a62",
   "metadata": {},
   "source": [
    "## Zahlen erkennen"
   ]
  },
  {
   "cell_type": "code",
   "execution_count": null,
   "id": "f0bdf6f2",
   "metadata": {},
   "outputs": [],
   "source": []
  },
  {
   "cell_type": "code",
   "execution_count": null,
   "id": "cc334108",
   "metadata": {},
   "outputs": [],
   "source": [
    "score(\"zip\", ergebnis)"
   ]
  },
  {
   "cell_type": "markdown",
   "id": "c562c951",
   "metadata": {},
   "source": [
    "**Aufgabe:** Die Hausnummern (erste Zahl in jeder Zeile) herausfiltern."
   ]
  },
  {
   "cell_type": "code",
   "execution_count": null,
   "id": "71125a3a",
   "metadata": {},
   "outputs": [],
   "source": []
  },
  {
   "cell_type": "code",
   "execution_count": null,
   "id": "31c6c5f5",
   "metadata": {},
   "outputs": [],
   "source": [
    "score(\"number\", ergebnis)"
   ]
  },
  {
   "cell_type": "markdown",
   "id": "71c8d20a",
   "metadata": {},
   "source": [
    "## Buchstaben erkennen"
   ]
  },
  {
   "cell_type": "code",
   "execution_count": null,
   "id": "8c1ebf72",
   "metadata": {},
   "outputs": [],
   "source": []
  },
  {
   "cell_type": "code",
   "execution_count": null,
   "id": "90b74058",
   "metadata": {},
   "outputs": [],
   "source": [
    "score(\"state\", ergebnis)"
   ]
  },
  {
   "cell_type": "markdown",
   "id": "19c5cf88",
   "metadata": {},
   "source": [
    "**Aufgabe:** Die Stadt herausfiltern."
   ]
  },
  {
   "cell_type": "code",
   "execution_count": null,
   "id": "38bb5887",
   "metadata": {},
   "outputs": [],
   "source": []
  },
  {
   "cell_type": "code",
   "execution_count": null,
   "id": "873fe37a",
   "metadata": {},
   "outputs": [],
   "source": [
    "score(\"city\", ergebnis)"
   ]
  },
  {
   "cell_type": "markdown",
   "id": "e3c2eb68",
   "metadata": {},
   "source": [
    "**Bonusaufgabe:** Den Straßennamen herausfiltern."
   ]
  },
  {
   "cell_type": "code",
   "execution_count": null,
   "id": "21585554",
   "metadata": {},
   "outputs": [],
   "source": []
  },
  {
   "cell_type": "code",
   "execution_count": null,
   "id": "11eef11b",
   "metadata": {},
   "outputs": [],
   "source": [
    "score(\"street\", ergebnis)"
   ]
  }
 ],
 "metadata": {
  "kernelspec": {
   "display_name": "Python 3 (ipykernel)",
   "language": "python",
   "name": "python3"
  },
  "language_info": {
   "codemirror_mode": {
    "name": "ipython",
    "version": 3
   },
   "file_extension": ".py",
   "mimetype": "text/x-python",
   "name": "python",
   "nbconvert_exporter": "python",
   "pygments_lexer": "ipython3",
   "version": "3.9.7"
  }
 },
 "nbformat": 4,
 "nbformat_minor": 5
}
