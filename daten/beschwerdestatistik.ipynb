{
 "cells": [
  {
   "cell_type": "code",
   "execution_count": null,
   "id": "97871faa",
   "metadata": {
    "ExecuteTime": {
     "end_time": "2023-09-23T09:45:45.987190685Z",
     "start_time": "2023-09-23T09:45:45.909569681Z"
    }
   },
   "outputs": [],
   "source": [
    "import pickle\n",
    "\n",
    "import pandas as pd\n",
    "import numpy as np"
   ]
  },
  {
   "cell_type": "code",
   "execution_count": null,
   "id": "27fa4398",
   "metadata": {
    "ExecuteTime": {
     "end_time": "2023-09-23T09:45:46.289598808Z",
     "start_time": "2023-09-23T09:45:45.920109154Z"
    }
   },
   "outputs": [],
   "source": [
    "df = pd.read_excel(\"rohdaten/dl_st_2022_beschwerde.xlsx\", sheet_name=\"Kranken\")\\\n",
    "       .dropna()\\\n",
    "       .astype({\"Reg-Nr.\": int, \"Beschwerden\": int})"
   ]
  },
  {
   "cell_type": "markdown",
   "id": "f366a4e0",
   "metadata": {},
   "source": [
    "Streiche Krankenkassen ohne Bestandsdaten:"
   ]
  },
  {
   "cell_type": "code",
   "execution_count": null,
   "id": "0a51a711",
   "metadata": {
    "ExecuteTime": {
     "end_time": "2023-09-23T09:45:46.291530130Z",
     "start_time": "2023-09-23T09:45:46.007497884Z"
    }
   },
   "outputs": [],
   "source": [
    "df = df[df[\"Reg-Nr.\"] < 5000].astype({\"Bestand\": int, \"Name\": str})"
   ]
  },
  {
   "cell_type": "code",
   "execution_count": null,
   "id": "a01e75be",
   "metadata": {
    "ExecuteTime": {
     "end_time": "2023-09-23T09:45:46.292276314Z",
     "start_time": "2023-09-23T09:45:46.007738208Z"
    }
   },
   "outputs": [],
   "source": [
    "df.columns"
   ]
  },
  {
   "cell_type": "code",
   "execution_count": null,
   "id": "7c4d526c",
   "metadata": {
    "ExecuteTime": {
     "end_time": "2023-09-23T09:45:46.292758848Z",
     "start_time": "2023-09-23T09:45:46.007929922Z"
    }
   },
   "outputs": [],
   "source": [
    "df.dtypes"
   ]
  },
  {
   "cell_type": "code",
   "execution_count": null,
   "id": "7d13e14a",
   "metadata": {
    "ExecuteTime": {
     "end_time": "2023-09-23T09:45:46.293706944Z",
     "start_time": "2023-09-23T09:45:46.008084551Z"
    }
   },
   "outputs": [],
   "source": [
    "df.head()"
   ]
  },
  {
   "cell_type": "markdown",
   "id": "6cf5e9eb",
   "metadata": {},
   "source": [
    "## Konvertiere in Dictionary-Format"
   ]
  },
  {
   "cell_type": "code",
   "execution_count": null,
   "id": "4a7b4b2a",
   "metadata": {
    "ExecuteTime": {
     "end_time": "2023-09-23T09:45:46.320456864Z",
     "start_time": "2023-09-23T09:45:46.051750525Z"
    }
   },
   "outputs": [],
   "source": [
    "daten = {k: np.array(v) for k, v in df.to_dict(orient=\"list\").items()}"
   ]
  },
  {
   "cell_type": "code",
   "execution_count": null,
   "id": "01902ff0",
   "metadata": {
    "ExecuteTime": {
     "end_time": "2023-09-23T09:45:46.320915023Z",
     "start_time": "2023-09-23T09:45:46.052056430Z"
    }
   },
   "outputs": [],
   "source": [
    "daten"
   ]
  },
  {
   "cell_type": "code",
   "execution_count": null,
   "id": "fa2afe88",
   "metadata": {
    "ExecuteTime": {
     "end_time": "2023-09-23T09:45:46.321811227Z",
     "start_time": "2023-09-23T09:45:46.052301713Z"
    }
   },
   "outputs": [],
   "source": [
    "with open(\"beschwerdestatistik_pkv.pickle\", \"wb\") as f:\n",
    "    pickle.dump(daten, f)"
   ]
  },
  {
   "cell_type": "code",
   "execution_count": null,
   "id": "a1a012ed",
   "metadata": {
    "ExecuteTime": {
     "end_time": "2023-09-23T09:45:46.322338598Z",
     "start_time": "2023-09-23T09:45:46.052438043Z"
    }
   },
   "outputs": [],
   "source": [
    "with open(\"beschwerdestatistik_pkv.pickle\", \"rb\") as f:\n",
    "    geladen = pickle.load(f)"
   ]
  },
  {
   "cell_type": "code",
   "execution_count": null,
   "id": "445c41c2",
   "metadata": {
    "ExecuteTime": {
     "end_time": "2023-09-23T09:45:46.322762605Z",
     "start_time": "2023-09-23T09:45:46.052553212Z"
    }
   },
   "outputs": [],
   "source": [
    "geladen"
   ]
  },
  {
   "cell_type": "markdown",
   "id": "57567737",
   "metadata": {},
   "source": [
    "## Kombinierte Tabelle"
   ]
  },
  {
   "cell_type": "code",
   "execution_count": null,
   "id": "b5c7c951",
   "metadata": {
    "ExecuteTime": {
     "end_time": "2023-09-23T09:45:46.323629266Z",
     "start_time": "2023-09-23T09:45:46.052811275Z"
    }
   },
   "outputs": [],
   "source": [
    "df1 = pd.read_excel(\"rohdaten/dl_st_2022_beschwerde.xlsx\", sheet_name=\"Kranken\")\\\n",
    "       .dropna()\\\n",
    "       .astype({\"Reg-Nr.\": int, \"Beschwerden\": int})\n",
    "df1 = df1[df1[\"Reg-Nr.\"] < 5000].astype({\"Bestand\": int, \"Name\": str})\n",
    "df1[\"Typ\"] = \"Kranken\""
   ]
  },
  {
   "cell_type": "code",
   "execution_count": null,
   "id": "4654426b",
   "metadata": {
    "ExecuteTime": {
     "end_time": "2023-09-23T09:45:46.337364467Z",
     "start_time": "2023-09-23T09:45:46.095722963Z"
    }
   },
   "outputs": [],
   "source": [
    "df2 = pd.read_excel(\"rohdaten/dl_st_2022_beschwerde.xlsx\", sheet_name=\"Leben \")\\\n",
    "       .dropna()\\\n",
    "       .astype({\"Reg-Nr.\": int, \"Beschwerden\": int})\n",
    "df2 = df2[df2[\"Bestand\"] != \"k.A.\"].astype({\"Bestand\": int, \"Name\": str})\n",
    "df2[\"Typ\"] = \"Leben\""
   ]
  },
  {
   "cell_type": "code",
   "execution_count": null,
   "id": "e7d6d65e",
   "metadata": {
    "ExecuteTime": {
     "end_time": "2023-09-23T09:45:46.338020417Z",
     "start_time": "2023-09-23T09:45:46.135983475Z"
    }
   },
   "outputs": [],
   "source": [
    "df3 = pd.read_excel(\"rohdaten/dl_st_2022_beschwerde.xlsx\", sheet_name=\"Unfall\")\\\n",
    "       .dropna()\\\n",
    "       .astype({\"Reg-Nr.\": int, \"Beschwerden\": int})\n",
    "df3 = df3[df3[\"Bestand\"] != \"k.A.\"].astype({\"Bestand\": int, \"Name\": str})\n",
    "df3[\"Typ\"] = \"Unfall\""
   ]
  },
  {
   "cell_type": "code",
   "execution_count": null,
   "id": "d5f2505e",
   "metadata": {
    "ExecuteTime": {
     "end_time": "2023-09-23T09:45:46.340011663Z",
     "start_time": "2023-09-23T09:45:46.232090915Z"
    }
   },
   "outputs": [],
   "source": [
    "df_full = pd.concat([df1, df2, df3])\n",
    "df_full = df_full.iloc[np.random.permutation(len(df_full))].reset_index().drop(columns=[\"index\"])"
   ]
  },
  {
   "cell_type": "code",
   "execution_count": null,
   "id": "b822a6d2",
   "metadata": {
    "ExecuteTime": {
     "end_time": "2023-09-23T09:45:46.341605581Z",
     "start_time": "2023-09-23T09:45:46.275628800Z"
    }
   },
   "outputs": [],
   "source": [
    "df_full.head()"
   ]
  },
  {
   "cell_type": "code",
   "execution_count": null,
   "id": "79da0e46",
   "metadata": {
    "ExecuteTime": {
     "end_time": "2023-09-23T09:45:46.342440254Z",
     "start_time": "2023-09-23T09:45:46.275865702Z"
    }
   },
   "outputs": [],
   "source": [
    "df_full.dtypes"
   ]
  },
  {
   "cell_type": "code",
   "execution_count": null,
   "id": "6b500fda1b5ee5d9",
   "metadata": {
    "ExecuteTime": {
     "end_time": "2023-09-23T09:45:46.342792743Z",
     "start_time": "2023-09-23T09:45:46.276021518Z"
    }
   },
   "outputs": [],
   "source": [
    "df_full[\"Name\"] = df_full[\"Name\"].str.strip()"
   ]
  },
  {
   "cell_type": "code",
   "execution_count": null,
   "id": "1cbf7dca",
   "metadata": {
    "ExecuteTime": {
     "end_time": "2023-09-23T09:45:46.446111857Z",
     "start_time": "2023-09-23T09:45:46.276151283Z"
    }
   },
   "outputs": [],
   "source": [
    "df_full.to_excel(\"beschwerdestatistik_reduziert.xlsx\", index=False)"
   ]
  },
  {
   "cell_type": "code",
   "execution_count": null,
   "id": "6ec990da",
   "metadata": {
    "ExecuteTime": {
     "end_time": "2023-09-23T09:45:46.446867749Z",
     "start_time": "2023-09-23T09:45:46.319519803Z"
    }
   },
   "outputs": [],
   "source": [
    "df_full.to_csv(\"beschwerdestatistik_reduziert.csv\", index=False)"
   ]
  },
  {
   "cell_type": "code",
   "execution_count": null,
   "id": "05cfb9ab",
   "metadata": {
    "ExecuteTime": {
     "end_time": "2023-09-23T09:45:46.446999680Z",
     "start_time": "2023-09-23T09:45:46.319695803Z"
    }
   },
   "outputs": [],
   "source": []
  }
 ],
 "metadata": {
  "kernelspec": {
   "display_name": "Python 3 (ipykernel)",
   "language": "python",
   "name": "python3"
  },
  "language_info": {
   "codemirror_mode": {
    "name": "ipython",
    "version": 3
   },
   "file_extension": ".py",
   "mimetype": "text/x-python",
   "name": "python",
   "nbconvert_exporter": "python",
   "pygments_lexer": "ipython3",
   "version": "3.9.7"
  }
 },
 "nbformat": 4,
 "nbformat_minor": 5
}
