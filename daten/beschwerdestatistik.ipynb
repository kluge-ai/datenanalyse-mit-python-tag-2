{
 "cells": [
  {
   "cell_type": "code",
   "execution_count": 3,
   "id": "d870dfef",
   "metadata": {},
   "outputs": [
    {
     "name": "stdout",
     "output_type": "stream",
     "text": [
      "Defaulting to user installation because normal site-packages is not writeable\n",
      "Requirement already satisfied: pandas in /home/jupyter-kilian/.local/lib/python3.9/site-packages (2.0.2)\n",
      "Requirement already satisfied: openpyxl in /home/jupyter-kilian/.local/lib/python3.9/site-packages (3.1.2)\n",
      "Requirement already satisfied: python-dateutil>=2.8.2 in /opt/tljh/user/lib/python3.9/site-packages (from pandas) (2.8.2)\n",
      "Requirement already satisfied: tzdata>=2022.1 in /home/jupyter-kilian/.local/lib/python3.9/site-packages (from pandas) (2023.3)\n",
      "Requirement already satisfied: pytz>=2020.1 in /home/jupyter-kilian/.local/lib/python3.9/site-packages (from pandas) (2023.3)\n",
      "Requirement already satisfied: numpy>=1.20.3 in /home/jupyter-kilian/.local/lib/python3.9/site-packages (from pandas) (1.24.3)\n",
      "Requirement already satisfied: et-xmlfile in /home/jupyter-kilian/.local/lib/python3.9/site-packages (from openpyxl) (1.1.0)\n",
      "Requirement already satisfied: six>=1.5 in /opt/tljh/user/lib/python3.9/site-packages (from python-dateutil>=2.8.2->pandas) (1.16.0)\n",
      "Note: you may need to restart the kernel to use updated packages.\n"
     ]
    }
   ],
   "source": [
    "%pip install pandas openpyxl"
   ]
  },
  {
   "cell_type": "code",
   "execution_count": 4,
   "id": "97871faa",
   "metadata": {},
   "outputs": [],
   "source": [
    "import pickle\n",
    "\n",
    "import pandas as pd\n",
    "import numpy as np"
   ]
  },
  {
   "cell_type": "code",
   "execution_count": 5,
   "id": "27fa4398",
   "metadata": {},
   "outputs": [],
   "source": [
    "df = pd.read_excel(\"dl_st_2022_beschwerde.xlsx\", sheet_name=\"Kranken\")\\\n",
    "       .dropna()\\\n",
    "       .astype({\"Reg-Nr.\": int, \"Beschwerden\": int})"
   ]
  },
  {
   "cell_type": "markdown",
   "id": "f366a4e0",
   "metadata": {},
   "source": [
    "Streiche Krankenkassen ohne Bestandsdaten:"
   ]
  },
  {
   "cell_type": "code",
   "execution_count": 6,
   "id": "0a51a711",
   "metadata": {},
   "outputs": [],
   "source": [
    "df = df[df[\"Reg-Nr.\"] < 5000].astype({\"Bestand\": int, \"Name\": str})"
   ]
  },
  {
   "cell_type": "code",
   "execution_count": 7,
   "id": "a01e75be",
   "metadata": {},
   "outputs": [
    {
     "data": {
      "text/plain": [
       "Index(['Reg-Nr.', 'Name', 'Bestand', 'Beschwerden'], dtype='object')"
      ]
     },
     "execution_count": 7,
     "metadata": {},
     "output_type": "execute_result"
    }
   ],
   "source": [
    "df.columns"
   ]
  },
  {
   "cell_type": "code",
   "execution_count": 8,
   "id": "7c4d526c",
   "metadata": {},
   "outputs": [
    {
     "data": {
      "text/plain": [
       "Reg-Nr.         int64\n",
       "Name           object\n",
       "Bestand         int64\n",
       "Beschwerden     int64\n",
       "dtype: object"
      ]
     },
     "execution_count": 8,
     "metadata": {},
     "output_type": "execute_result"
    }
   ],
   "source": [
    "df.dtypes"
   ]
  },
  {
   "cell_type": "code",
   "execution_count": 9,
   "id": "7d13e14a",
   "metadata": {},
   "outputs": [
    {
     "data": {
      "text/html": [
       "<div>\n",
       "<style scoped>\n",
       "    .dataframe tbody tr th:only-of-type {\n",
       "        vertical-align: middle;\n",
       "    }\n",
       "\n",
       "    .dataframe tbody tr th {\n",
       "        vertical-align: top;\n",
       "    }\n",
       "\n",
       "    .dataframe thead th {\n",
       "        text-align: right;\n",
       "    }\n",
       "</style>\n",
       "<table border=\"1\" class=\"dataframe\">\n",
       "  <thead>\n",
       "    <tr style=\"text-align: right;\">\n",
       "      <th></th>\n",
       "      <th>Reg-Nr.</th>\n",
       "      <th>Name</th>\n",
       "      <th>Bestand</th>\n",
       "      <th>Beschwerden</th>\n",
       "    </tr>\n",
       "  </thead>\n",
       "  <tbody>\n",
       "    <tr>\n",
       "      <th>1</th>\n",
       "      <td>4001</td>\n",
       "      <td>CONTINENTALE KRANKEN</td>\n",
       "      <td>1308630</td>\n",
       "      <td>26</td>\n",
       "    </tr>\n",
       "    <tr>\n",
       "      <th>2</th>\n",
       "      <td>4002</td>\n",
       "      <td>SIGNAL IDUNA KRANKEN</td>\n",
       "      <td>2502385</td>\n",
       "      <td>29</td>\n",
       "    </tr>\n",
       "    <tr>\n",
       "      <th>3</th>\n",
       "      <td>4004</td>\n",
       "      <td>GENERALI KRANKEN AG</td>\n",
       "      <td>1799563</td>\n",
       "      <td>57</td>\n",
       "    </tr>\n",
       "    <tr>\n",
       "      <th>4</th>\n",
       "      <td>4011</td>\n",
       "      <td>LANDESKRANKENHILFE</td>\n",
       "      <td>329419</td>\n",
       "      <td>15</td>\n",
       "    </tr>\n",
       "    <tr>\n",
       "      <th>5</th>\n",
       "      <td>4028</td>\n",
       "      <td>DEBEKA KRANKEN</td>\n",
       "      <td>4224598</td>\n",
       "      <td>124</td>\n",
       "    </tr>\n",
       "  </tbody>\n",
       "</table>\n",
       "</div>"
      ],
      "text/plain": [
       "   Reg-Nr.                  Name  Bestand  Beschwerden\n",
       "1     4001  CONTINENTALE KRANKEN  1308630           26\n",
       "2     4002  SIGNAL IDUNA KRANKEN  2502385           29\n",
       "3     4004   GENERALI KRANKEN AG  1799563           57\n",
       "4     4011    LANDESKRANKENHILFE   329419           15\n",
       "5     4028        DEBEKA KRANKEN  4224598          124"
      ]
     },
     "execution_count": 9,
     "metadata": {},
     "output_type": "execute_result"
    }
   ],
   "source": [
    "df.head()"
   ]
  },
  {
   "cell_type": "markdown",
   "id": "6cf5e9eb",
   "metadata": {},
   "source": [
    "## Konvertiere in Dictionary-Format"
   ]
  },
  {
   "cell_type": "code",
   "execution_count": 10,
   "id": "4a7b4b2a",
   "metadata": {},
   "outputs": [],
   "source": [
    "daten = {k: np.array(v) for k, v in df.to_dict(orient=\"list\").items()}"
   ]
  },
  {
   "cell_type": "code",
   "execution_count": 11,
   "id": "01902ff0",
   "metadata": {},
   "outputs": [
    {
     "data": {
      "text/plain": [
       "{'Reg-Nr.': array([4001, 4002, 4004, 4011, 4028, 4034, 4037, 4039, 4043, 4044, 4045,\n",
       "        4095, 4108, 4109, 4112, 4116, 4117, 4118, 4119, 4121, 4125, 4126,\n",
       "        4131, 4134, 4139, 4142, 4143, 4144, 4145, 4146, 4147]),\n",
       " 'Name': array(['CONTINENTALE KRANKEN', 'SIGNAL IDUNA KRANKEN',\n",
       "        'GENERALI KRANKEN AG', 'LANDESKRANKENHILFE', 'DEBEKA KRANKEN',\n",
       "        'ALLIANZ PRIV.KV ', 'MÜNCHEN.VEREIN KV', 'SÜDDEUTSCHE KRANKEN',\n",
       "        'HALLESCHE KRANKEN', 'DKV AG', 'UNIVERSA KRANKEN', 'AXA KRANKEN',\n",
       "        'UNION KRANKENVERS.', 'LVM KRANKEN', 'ARAG KRANKEN', 'R+V KRANKEN',\n",
       "        'HUK-COBURG KRANKEN', 'CONCORDIA KRANKEN', 'GOTHAER KV AG',\n",
       "        'ENVIVAS KRANKEN', 'NÜRNBG. KRANKEN', 'ERGO KRANKEN',\n",
       "        'DEVK KRANKENVERS.-AG', 'BAYERISCHE BEAMTEN K', 'WÜRTT. KRANKEN',\n",
       "        'ALTE OLDENBURGER AG', 'VRK KV AG', 'HANSEMERKUR KV AG',\n",
       "        'INTER KV AG', 'OTTONOVA KRANKEN', 'BARMENIA KV AG'], dtype='<U20'),\n",
       " 'Bestand': array([1308630, 2502385, 1799563,  329419, 4224598, 2794821,  453955,\n",
       "         639245,  852211, 4310059,  361351, 1734263, 1358641,  409228,\n",
       "         704413, 1468557, 1139380,  126135,  695617,  437498,  371417,\n",
       "        1772507,  472852, 1146039,  468065,  157672,  166326, 1574466,\n",
       "         388537,   26122, 1803967]),\n",
       " 'Beschwerden': array([ 26,  29,  57,  15, 124,  38,  20,  21,  30,  67,  10,  73,  11,\n",
       "          4,  19,  10,  22,   3,  18,   2,   7,  12,   2,  17,   1,   1,\n",
       "          3,  18,  25,   3,  44])}"
      ]
     },
     "execution_count": 11,
     "metadata": {},
     "output_type": "execute_result"
    }
   ],
   "source": [
    "daten"
   ]
  },
  {
   "cell_type": "code",
   "execution_count": 12,
   "id": "fa2afe88",
   "metadata": {},
   "outputs": [],
   "source": [
    "with open(\"beschwerdestatistik_pkv.pickle\", \"wb\") as f:\n",
    "    pickle.dump(daten, f)"
   ]
  },
  {
   "cell_type": "code",
   "execution_count": 13,
   "id": "a1a012ed",
   "metadata": {},
   "outputs": [],
   "source": [
    "with open(\"beschwerdestatistik_pkv.pickle\", \"rb\") as f:\n",
    "    geladen = pickle.load(f)"
   ]
  },
  {
   "cell_type": "code",
   "execution_count": 14,
   "id": "445c41c2",
   "metadata": {},
   "outputs": [
    {
     "data": {
      "text/plain": [
       "{'Reg-Nr.': array([4001, 4002, 4004, 4011, 4028, 4034, 4037, 4039, 4043, 4044, 4045,\n",
       "        4095, 4108, 4109, 4112, 4116, 4117, 4118, 4119, 4121, 4125, 4126,\n",
       "        4131, 4134, 4139, 4142, 4143, 4144, 4145, 4146, 4147]),\n",
       " 'Name': array(['CONTINENTALE KRANKEN', 'SIGNAL IDUNA KRANKEN',\n",
       "        'GENERALI KRANKEN AG', 'LANDESKRANKENHILFE', 'DEBEKA KRANKEN',\n",
       "        'ALLIANZ PRIV.KV ', 'MÜNCHEN.VEREIN KV', 'SÜDDEUTSCHE KRANKEN',\n",
       "        'HALLESCHE KRANKEN', 'DKV AG', 'UNIVERSA KRANKEN', 'AXA KRANKEN',\n",
       "        'UNION KRANKENVERS.', 'LVM KRANKEN', 'ARAG KRANKEN', 'R+V KRANKEN',\n",
       "        'HUK-COBURG KRANKEN', 'CONCORDIA KRANKEN', 'GOTHAER KV AG',\n",
       "        'ENVIVAS KRANKEN', 'NÜRNBG. KRANKEN', 'ERGO KRANKEN',\n",
       "        'DEVK KRANKENVERS.-AG', 'BAYERISCHE BEAMTEN K', 'WÜRTT. KRANKEN',\n",
       "        'ALTE OLDENBURGER AG', 'VRK KV AG', 'HANSEMERKUR KV AG',\n",
       "        'INTER KV AG', 'OTTONOVA KRANKEN', 'BARMENIA KV AG'], dtype='<U20'),\n",
       " 'Bestand': array([1308630, 2502385, 1799563,  329419, 4224598, 2794821,  453955,\n",
       "         639245,  852211, 4310059,  361351, 1734263, 1358641,  409228,\n",
       "         704413, 1468557, 1139380,  126135,  695617,  437498,  371417,\n",
       "        1772507,  472852, 1146039,  468065,  157672,  166326, 1574466,\n",
       "         388537,   26122, 1803967]),\n",
       " 'Beschwerden': array([ 26,  29,  57,  15, 124,  38,  20,  21,  30,  67,  10,  73,  11,\n",
       "          4,  19,  10,  22,   3,  18,   2,   7,  12,   2,  17,   1,   1,\n",
       "          3,  18,  25,   3,  44])}"
      ]
     },
     "execution_count": 14,
     "metadata": {},
     "output_type": "execute_result"
    }
   ],
   "source": [
    "geladen"
   ]
  },
  {
   "cell_type": "markdown",
   "id": "57567737",
   "metadata": {},
   "source": [
    "## Kombinierte Tabelle"
   ]
  },
  {
   "cell_type": "code",
   "execution_count": 29,
   "id": "b5c7c951",
   "metadata": {},
   "outputs": [],
   "source": [
    "df1 = pd.read_excel(\"dl_st_2022_beschwerde.xlsx\", sheet_name=\"Kranken\")\\\n",
    "       .dropna()\\\n",
    "       .astype({\"Reg-Nr.\": int, \"Beschwerden\": int})\n",
    "df1 = df1[df1[\"Reg-Nr.\"] < 5000].astype({\"Bestand\": int, \"Name\": str})\n",
    "df1[\"Typ\"] = \"Kranken\""
   ]
  },
  {
   "cell_type": "code",
   "execution_count": 30,
   "id": "4654426b",
   "metadata": {},
   "outputs": [],
   "source": [
    "df2 = pd.read_excel(\"dl_st_2022_beschwerde.xlsx\", sheet_name=\"Leben \")\\\n",
    "       .dropna()\\\n",
    "       .astype({\"Reg-Nr.\": int, \"Beschwerden\": int})\n",
    "df2 = df2[df2[\"Bestand\"] != \"k.A.\"].astype({\"Bestand\": int, \"Name\": str})\n",
    "df2[\"Typ\"] = \"Leben\""
   ]
  },
  {
   "cell_type": "code",
   "execution_count": 31,
   "id": "e7d6d65e",
   "metadata": {},
   "outputs": [],
   "source": [
    "df3 = pd.read_excel(\"dl_st_2022_beschwerde.xlsx\", sheet_name=\"Unfall\")\\\n",
    "       .dropna()\\\n",
    "       .astype({\"Reg-Nr.\": int, \"Beschwerden\": int})\n",
    "df3 = df3[df3[\"Bestand\"] != \"k.A.\"].astype({\"Bestand\": int, \"Name\": str})\n",
    "df3[\"Typ\"] = \"Unfall\""
   ]
  },
  {
   "cell_type": "code",
   "execution_count": 40,
   "id": "d5f2505e",
   "metadata": {},
   "outputs": [],
   "source": [
    "df_full = pd.concat([df1, df2, df3])\n",
    "df_full = df_full.iloc[np.random.permutation(len(df_full))].reset_index().drop(columns=[\"index\"])"
   ]
  },
  {
   "cell_type": "code",
   "execution_count": 41,
   "id": "b822a6d2",
   "metadata": {},
   "outputs": [
    {
     "data": {
      "text/html": [
       "<div>\n",
       "<style scoped>\n",
       "    .dataframe tbody tr th:only-of-type {\n",
       "        vertical-align: middle;\n",
       "    }\n",
       "\n",
       "    .dataframe tbody tr th {\n",
       "        vertical-align: top;\n",
       "    }\n",
       "\n",
       "    .dataframe thead th {\n",
       "        text-align: right;\n",
       "    }\n",
       "</style>\n",
       "<table border=\"1\" class=\"dataframe\">\n",
       "  <thead>\n",
       "    <tr style=\"text-align: right;\">\n",
       "      <th></th>\n",
       "      <th>Reg-Nr.</th>\n",
       "      <th>Name</th>\n",
       "      <th>Bestand</th>\n",
       "      <th>Beschwerden</th>\n",
       "      <th>Typ</th>\n",
       "    </tr>\n",
       "  </thead>\n",
       "  <tbody>\n",
       "    <tr>\n",
       "      <th>0</th>\n",
       "      <td>1005</td>\n",
       "      <td>WÜRTT. LEBEN</td>\n",
       "      <td>1857875</td>\n",
       "      <td>4</td>\n",
       "      <td>Leben</td>\n",
       "    </tr>\n",
       "    <tr>\n",
       "      <th>1</th>\n",
       "      <td>1048</td>\n",
       "      <td>SIGNAL IDUNA LV</td>\n",
       "      <td>1504438</td>\n",
       "      <td>11</td>\n",
       "      <td>Leben</td>\n",
       "    </tr>\n",
       "    <tr>\n",
       "      <th>2</th>\n",
       "      <td>4037</td>\n",
       "      <td>MÜNCHEN.VEREIN KV</td>\n",
       "      <td>453955</td>\n",
       "      <td>20</td>\n",
       "      <td>Kranken</td>\n",
       "    </tr>\n",
       "    <tr>\n",
       "      <th>3</th>\n",
       "      <td>4126</td>\n",
       "      <td>ERGO KRANKEN</td>\n",
       "      <td>1772507</td>\n",
       "      <td>12</td>\n",
       "      <td>Kranken</td>\n",
       "    </tr>\n",
       "    <tr>\n",
       "      <th>4</th>\n",
       "      <td>4145</td>\n",
       "      <td>INTER KV AG</td>\n",
       "      <td>388537</td>\n",
       "      <td>25</td>\n",
       "      <td>Kranken</td>\n",
       "    </tr>\n",
       "  </tbody>\n",
       "</table>\n",
       "</div>"
      ],
      "text/plain": [
       "   Reg-Nr.               Name  Bestand  Beschwerden      Typ\n",
       "0     1005       WÜRTT. LEBEN  1857875            4    Leben\n",
       "1     1048    SIGNAL IDUNA LV  1504438           11    Leben\n",
       "2     4037  MÜNCHEN.VEREIN KV   453955           20  Kranken\n",
       "3     4126       ERGO KRANKEN  1772507           12  Kranken\n",
       "4     4145        INTER KV AG   388537           25  Kranken"
      ]
     },
     "execution_count": 41,
     "metadata": {},
     "output_type": "execute_result"
    }
   ],
   "source": [
    "df_full.head()"
   ]
  },
  {
   "cell_type": "code",
   "execution_count": 42,
   "id": "79da0e46",
   "metadata": {},
   "outputs": [
    {
     "data": {
      "text/plain": [
       "Reg-Nr.         int64\n",
       "Name           object\n",
       "Bestand         int64\n",
       "Beschwerden     int64\n",
       "Typ            object\n",
       "dtype: object"
      ]
     },
     "execution_count": 42,
     "metadata": {},
     "output_type": "execute_result"
    }
   ],
   "source": [
    "df_full.dtypes"
   ]
  },
  {
   "cell_type": "code",
   "execution_count": 45,
   "id": "1cbf7dca",
   "metadata": {},
   "outputs": [],
   "source": [
    "df_full.to_excel(\"beschwerdestatistik_reduziert.xlsx\", index=False)"
   ]
  },
  {
   "cell_type": "code",
   "execution_count": 46,
   "id": "6ec990da",
   "metadata": {},
   "outputs": [],
   "source": [
    "df_full.to_csv(\"beschwerdestatistik_reduziert.csv\", index=False)"
   ]
  },
  {
   "cell_type": "code",
   "execution_count": null,
   "id": "05cfb9ab",
   "metadata": {},
   "outputs": [],
   "source": []
  }
 ],
 "metadata": {
  "kernelspec": {
   "display_name": "Python 3 (ipykernel)",
   "language": "python",
   "name": "python3"
  },
  "language_info": {
   "codemirror_mode": {
    "name": "ipython",
    "version": 3
   },
   "file_extension": ".py",
   "mimetype": "text/x-python",
   "name": "python",
   "nbconvert_exporter": "python",
   "pygments_lexer": "ipython3",
   "version": "3.9.7"
  }
 },
 "nbformat": 4,
 "nbformat_minor": 5
}
