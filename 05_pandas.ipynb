{
 "cells": [
  {
   "cell_type": "markdown",
   "id": "1d7bb47b",
   "metadata": {},
   "source": [
    "# Pandas"
   ]
  },
  {
   "cell_type": "markdown",
   "id": "b7bf0fb8",
   "metadata": {},
   "source": [
    "## Warum Pandas? & Einführung DataFrames"
   ]
  },
  {
   "cell_type": "code",
   "execution_count": null,
   "id": "3038b2a0",
   "metadata": {},
   "outputs": [],
   "source": []
  },
  {
   "cell_type": "markdown",
   "id": "0d87864c",
   "metadata": {},
   "source": [
    "## Daten laden mit Pandas"
   ]
  },
  {
   "cell_type": "code",
   "execution_count": null,
   "id": "4260bc6a",
   "metadata": {},
   "outputs": [],
   "source": []
  },
  {
   "cell_type": "markdown",
   "id": "8855ba5e",
   "metadata": {},
   "source": [
    "## DataFrames filtern"
   ]
  },
  {
   "cell_type": "code",
   "execution_count": null,
   "id": "54c142b5",
   "metadata": {},
   "outputs": [],
   "source": []
  },
  {
   "cell_type": "markdown",
   "id": "a1fffcc1",
   "metadata": {},
   "source": [
    "## Daten-Typen"
   ]
  },
  {
   "cell_type": "code",
   "execution_count": null,
   "id": "ccd59402",
   "metadata": {},
   "outputs": [],
   "source": []
  },
  {
   "cell_type": "markdown",
   "id": "06e492c7",
   "metadata": {},
   "source": [
    "## Eine Daten-Analyse mit Pandas"
   ]
  },
  {
   "cell_type": "markdown",
   "id": "dd147107",
   "metadata": {},
   "source": [
    "**Aufgabe:** Die Datei `daten/beschwerdestatistik_reduziert.csv` in einen DataFrame laden.\n",
    "\n",
    "Tipp für diese und die folgenden Aufgaben: Die identischen Daten sind auch als Excel-Datei verfügbar."
   ]
  },
  {
   "cell_type": "code",
   "execution_count": null,
   "id": "0b9932ae",
   "metadata": {},
   "outputs": [],
   "source": []
  },
  {
   "cell_type": "markdown",
   "id": "10aa8fcd",
   "metadata": {},
   "source": [
    "**Aufgabe:** Welche Typen von Versicherungen sind in dem Statistik-Auszug enthalten?"
   ]
  },
  {
   "cell_type": "code",
   "execution_count": null,
   "id": "25feb585",
   "metadata": {},
   "outputs": [],
   "source": []
  },
  {
   "cell_type": "markdown",
   "id": "f84cdc9a",
   "metadata": {},
   "source": [
    "**Aufgabe:** Was sind jeweils die drei größten Versicherer (nach Anzahl der Versicherten) pro Typ in der Statistik?"
   ]
  },
  {
   "cell_type": "code",
   "execution_count": null,
   "id": "d1fe9517",
   "metadata": {},
   "outputs": [],
   "source": []
  },
  {
   "cell_type": "markdown",
   "id": "1eed2bc5",
   "metadata": {},
   "source": [
    "**Aufgabe:** Wie viele Versicherte haben die verschiedenen Versicherungstypen im Schnitt?"
   ]
  },
  {
   "cell_type": "code",
   "execution_count": null,
   "id": "feacb475",
   "metadata": {},
   "outputs": [],
   "source": []
  },
  {
   "cell_type": "markdown",
   "id": "3a2d4e77",
   "metadata": {},
   "source": [
    "**Aufgabe:** Was sind die durchschnittlichen Beschwerde-Raten für die verschiedenen Versicherungstypen?"
   ]
  },
  {
   "cell_type": "code",
   "execution_count": null,
   "id": "cd8469df",
   "metadata": {},
   "outputs": [],
   "source": []
  },
  {
   "cell_type": "markdown",
   "id": "55ec5faa",
   "metadata": {},
   "source": [
    "**Bonusaufgabe:** Nutze die Group-By-Funktion, um die vorherigen Aufgaben zu bearbeiten.\n",
    "\n",
    "[Dokumentation mit Beispielen](https://pandas.pydata.org/docs/reference/api/pandas.DataFrame.groupby.html), die kopiert und nachvollzogen werden können."
   ]
  },
  {
   "cell_type": "code",
   "execution_count": null,
   "id": "ebddff0a",
   "metadata": {},
   "outputs": [],
   "source": []
  }
 ],
 "metadata": {
  "kernelspec": {
   "display_name": "Python 3 (ipykernel)",
   "language": "python",
   "name": "python3"
  },
  "language_info": {
   "codemirror_mode": {
    "name": "ipython",
    "version": 3
   },
   "file_extension": ".py",
   "mimetype": "text/x-python",
   "name": "python",
   "nbconvert_exporter": "python",
   "pygments_lexer": "ipython3",
   "version": "3.9.7"
  }
 },
 "nbformat": 4,
 "nbformat_minor": 5
}
